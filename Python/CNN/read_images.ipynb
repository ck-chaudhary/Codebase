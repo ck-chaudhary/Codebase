{
 "cells": [
  {
   "cell_type": "markdown",
   "metadata": {},
   "source": [
    "## Importing select images from a sample folder\n",
    "\n",
    "### For this the assumption is that your data is stored locally where each subfolder has data of a certain label."
   ]
  },
  {
   "cell_type": "code",
   "execution_count": null,
   "metadata": {},
   "outputs": [],
   "source": [
    "import os\n",
    "os.getcwd()"
   ]
  },
  {
   "cell_type": "code",
   "execution_count": null,
   "metadata": {},
   "outputs": [],
   "source": [
    "# point to the location of the .tar file\n",
    "path_tar = os.getcwd()+'/datasets/'+'datasets.tar'\n",
    "path_tar"
   ]
  },
  {
   "cell_type": "code",
   "execution_count": null,
   "metadata": {},
   "outputs": [],
   "source": [
    "# extract the file with the images\n",
    "import tarfile\n",
    "tar = tarfile.open(path_tar)\n",
    "tar.extractall()\n",
    "tar.close()"
   ]
  },
  {
   "cell_type": "code",
   "execution_count": null,
   "metadata": {},
   "outputs": [],
   "source": [
    "files = os.listdir(os.curdir) \n",
    "#files"
   ]
  },
  {
   "cell_type": "code",
   "execution_count": null,
   "metadata": {},
   "outputs": [],
   "source": [
    "# select only images from specific folder\n",
    "fname = []\n",
    "for root, directories, filenames in os.walk(os.curdir):\n",
    "    select = os.path.join(root)\n",
    "    if select.startswith(\"./folder_name\"): \n",
    "        for filename in filenames: \n",
    "            #print(os.path.join(root,filename)) \n",
    "            fname.append(os.path.join(root,filename))"
   ]
  },
  {
   "cell_type": "code",
   "execution_count": null,
   "metadata": {},
   "outputs": [],
   "source": [
    "# number of images read in\n",
    "len(fname)"
   ]
  },
  {
   "cell_type": "code",
   "execution_count": null,
   "metadata": {},
   "outputs": [],
   "source": [
    "# check the name of a sample file\n",
    "fname[2]"
   ]
  },
  {
   "cell_type": "code",
   "execution_count": null,
   "metadata": {},
   "outputs": [],
   "source": [
    "# plot one of the images\n",
    "sample_image = fname[2]\n",
    "sample_image\n",
    "\n",
    "%pylab inline\n",
    "import matplotlib.pyplot as plt\n",
    "import matplotlib.image as mpimg\n",
    "img=mpimg.imread(sample_image)\n",
    "imgplot = plt.imshow(img)\n",
    "plt.show()"
   ]
  },
  {
   "cell_type": "code",
   "execution_count": null,
   "metadata": {},
   "outputs": [],
   "source": [
    "# plotting all the images\n",
    "#for i in fname:\n",
    "#    img=mpimg.imread(i)\n",
    "#    imgplot = plt.imshow(img)\n",
    "#    plt.show()"
   ]
  },
  {
   "cell_type": "code",
   "execution_count": null,
   "metadata": {},
   "outputs": [],
   "source": [
    "# convert the files into numpy array\n",
    "image_list = []\n",
    "import imageio\n",
    "for i in fname:\n",
    "    im = imageio.imread(i)\n",
    "    #print(im.shape)\n",
    "    image_list.append(im)"
   ]
  },
  {
   "cell_type": "code",
   "execution_count": null,
   "metadata": {},
   "outputs": [],
   "source": [
    "# number of elements in the numpy array\n",
    "len(image_list)"
   ]
  },
  {
   "cell_type": "code",
   "execution_count": null,
   "metadata": {},
   "outputs": [],
   "source": [
    "# sample representation of an image\n",
    "image_list[170]"
   ]
  },
  {
   "cell_type": "code",
   "execution_count": null,
   "metadata": {},
   "outputs": [],
   "source": [
    "fname[0:2]"
   ]
  },
  {
   "cell_type": "code",
   "execution_count": null,
   "metadata": {},
   "outputs": [],
   "source": [
    "# get the labels for a sample image\n",
    "str1 = fname[1]\n",
    "str2 = \"class\";\n",
    "\n",
    "loc = str1.find(str2)\n",
    "\n",
    "label = str1[loc+6:loc+7]\n",
    "print(label)"
   ]
  },
  {
   "cell_type": "code",
   "execution_count": null,
   "metadata": {},
   "outputs": [],
   "source": [
    "# get the labels for all the images\n",
    "str2 = \"class\";\n",
    "label_list =[]\n",
    "\n",
    "for i in range(0,len(fname)): \n",
    "    str1 = fname[i]\n",
    "    loc = str1.find(str2)\n",
    "\n",
    "    label = str1[loc+6:loc+7]\n",
    "    #print(label)\n",
    "    label_list.append(label)"
   ]
  },
  {
   "cell_type": "code",
   "execution_count": null,
   "metadata": {},
   "outputs": [],
   "source": [
    "len(label_list)"
   ]
  },
  {
   "cell_type": "code",
   "execution_count": null,
   "metadata": {},
   "outputs": [],
   "source": [
    ""
   ]
  }
 ],
 "metadata": {
  "kernelspec": {
   "display_name": "Python 3",
   "language": "python",
   "name": "python3"
  },
  "language_info": {
   "codemirror_mode": {
    "name": "ipython",
    "version": 3.0
   },
   "file_extension": ".py",
   "mimetype": "text/x-python",
   "name": "python",
   "nbconvert_exporter": "python",
   "pygments_lexer": "ipython3",
   "version": "3.5.2"
  }
 },
 "nbformat": 4,
 "nbformat_minor": 2
}