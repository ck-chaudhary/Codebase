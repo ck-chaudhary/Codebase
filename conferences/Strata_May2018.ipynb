{
 "cells": [
  {
   "cell_type": "markdown",
   "metadata": {},
   "source": [
    "# Code for Strata (May-2018) talk: \n",
    "\n",
    "## Operationalize deep learning models for fraud detection with Azure Machine Learning Workbench\n",
    "\n",
    "https://conferences.oreilly.com/strata/strata-eu/public/schedule/detail/64891"
   ]
  },
  {
   "cell_type": "markdown",
   "metadata": {},
   "source": [
    "## References: \n",
    "\n",
    "- Preconfigured Virtual Machines: https://azure.microsoft.com/en-us/services/virtual-machines/data-science-virtual-machines/ \n",
    "\n",
    "- Data Source: https://www.kaggle.com/mlg-ulb/creditcardfraud\n",
    "\n",
    "- Blog Post by Venelin Valkov: https://medium.com/@curiousily/credit-card-fraud-detection-using-autoencoders-in-keras-tensorflow-for-hackers-part-vii-20e0c85301bd\n",
    "\n",
    "- Deep Learning Book by Ian Goodfellow, Yoshua Bengio, Aaron Courville: http://www.deeplearningbook.org/ "
   ]
  },
  {
   "cell_type": "markdown",
   "metadata": {},
   "source": [
    "## Environment setup"
   ]
  },
  {
   "cell_type": "code",
   "execution_count": 1,
   "metadata": {},
   "outputs": [],
   "source": [
    "# Import necessary components\n",
    "import os\n",
    "import keras\n",
    "import shutil\n",
    "import json"
   ]
  },
  {
   "cell_type": "code",
   "execution_count": 2,
   "metadata": {},
   "outputs": [],
   "source": [
    "import re\n",
    "import pandas as pd\n",
    "import numpy as np\n",
    "import datetime\n",
    "\n",
    "from sklearn import preprocessing\n",
    "from sklearn.metrics import confusion_matrix, recall_score, precision_score\n",
    "from keras.models import Sequential\n",
    "from keras.layers import Dense, Dropout, LSTM, Activation\n",
    "from math import ceil"
   ]
  },
  {
   "cell_type": "code",
   "execution_count": 3,
   "metadata": {},
   "outputs": [],
   "source": [
    "import pickle\n",
    "from scipy import stats\n",
    "import tensorflow as tf\n",
    "from sklearn.model_selection import train_test_split\n",
    "from keras.models import Model, load_model\n",
    "from keras.layers import Input, Dense\n",
    "from keras.callbacks import ModelCheckpoint, TensorBoard\n",
    "from keras import regularizers"
   ]
  },
  {
   "cell_type": "code",
   "execution_count": 4,
   "metadata": {},
   "outputs": [],
   "source": [
    "# For creating the deployment schema file\n",
    "from azureml.api.schema.dataTypes import DataTypes\n",
    "from azureml.api.schema.sampleDefinition import SampleDefinition\n",
    "from azureml.api.realtime.services import generate_schema"
   ]
  },
  {
   "cell_type": "code",
   "execution_count": 5,
   "metadata": {},
   "outputs": [],
   "source": [
    "import matplotlib as plt"
   ]
  },
  {
   "cell_type": "code",
   "execution_count": 6,
   "metadata": {},
   "outputs": [],
   "source": [
    "%matplotlib inline"
   ]
  },
  {
   "cell_type": "code",
   "execution_count": 7,
   "metadata": {},
   "outputs": [],
   "source": [
    "import glob\n",
    "import os\n",
    "\n",
    "from azure.storage.blob import BlockBlobService\n",
    "from azure.storage.blob import PublicAccess"
   ]
  },
  {
   "cell_type": "markdown",
   "metadata": {},
   "source": [
    "Enter the credentials to access the data from the cloud and then download the file for analysis."
   ]
  },
  {
   "cell_type": "code",
   "execution_count": 8,
   "metadata": {},
   "outputs": [],
   "source": [
    "# Azure blob credentials to read data\n",
    "storage_account = '##Enter your information from Azure portal##'\n",
    "storage_key = '##Enter your information from Azure portal##'\n",
    "\n",
    "input_container = 'stratalondon'\n",
    "output_container = 'modeldeploy'\n",
    "\n",
    "az_blob_service = BlockBlobService(account_name=storage_account, account_key=storage_key)"
   ]
  },
  {
   "cell_type": "code",
   "execution_count": 9,
   "metadata": {},
   "outputs": [
    {
     "name": "stdout",
     "output_type": "stream",
     "text": [
      "creditcard.csv\n"
     ]
    }
   ],
   "source": [
    "blob_service = BlockBlobService(account_name=storage_account, account_key=storage_key)\n",
    "input_container_folder = 'stratalondon/'\n",
    "generator = blob_service.list_blobs(input_container_folder)\n",
    "for blob in generator:\n",
    "    if (\"creditcard\" in blob.name):\n",
    "        print(blob.name)\n",
    "        fname=blob.name"
   ]
  },
  {
   "cell_type": "code",
   "execution_count": 10,
   "metadata": {},
   "outputs": [
    {
     "data": {
      "text/plain": [
       "<azure.storage.blob.models.Blob at 0x7f9341e40550>"
      ]
     },
     "execution_count": 10,
     "output_type": "execute_result",
     "metadata": {}
    }
   ],
   "source": [
    "aml_dir = os.environ['AZUREML_NATIVE_SHARE_DIRECTORY']\n",
    "my_service = BlockBlobService(account_name=storage_account, account_key=storage_key)\n",
    "my_service.get_blob_to_path('stratalondon', fname, '/azureml-share/creditcard.csv')"
   ]
  },
  {
   "cell_type": "markdown",
   "metadata": {},
   "source": [
    "## Import the Credit card data set"
   ]
  },
  {
   "cell_type": "code",
   "execution_count": 11,
   "metadata": {},
   "outputs": [
    {
     "data": {
      "text/plain": [
       "'/azureml-share/'"
      ]
     },
     "execution_count": 11,
     "output_type": "execute_result",
     "metadata": {}
    }
   ],
   "source": [
    "# Check the path\n",
    "aml_dir"
   ]
  },
  {
   "cell_type": "code",
   "execution_count": 12,
   "metadata": {},
   "outputs": [],
   "source": [
    "# Ingest the dataset\n",
    "cc = pd.read_csv(aml_dir+'creditcard.csv')"
   ]
  },
  {
   "cell_type": "markdown",
   "metadata": {},
   "source": [
    "After data ingestion from Blob, check to see the various columns and number of rows/columns of the dataset."
   ]
  },
  {
   "cell_type": "code",
   "execution_count": 13,
   "metadata": {},
   "outputs": [
    {
     "data": {
      "text/html": [
       "<div>\n",
       "<style scoped>\n",
       "    .dataframe tbody tr th:only-of-type {\n",
       "        vertical-align: middle;\n",
       "    }\n",
       "\n",
       "    .dataframe tbody tr th {\n",
       "        vertical-align: top;\n",
       "    }\n",
       "\n",
       "    .dataframe thead th {\n",
       "        text-align: right;\n",
       "    }\n",
       "</style>\n",
       "<table border=\"1\" class=\"dataframe\">\n",
       "  <thead>\n",
       "    <tr style=\"text-align: right;\">\n",
       "      <th></th>\n",
       "      <th>Time</th>\n",
       "      <th>V1</th>\n",
       "      <th>V2</th>\n",
       "      <th>V3</th>\n",
       "      <th>V4</th>\n",
       "      <th>V5</th>\n",
       "      <th>V6</th>\n",
       "      <th>V7</th>\n",
       "      <th>V8</th>\n",
       "      <th>V9</th>\n",
       "      <th>...</th>\n",
       "      <th>V21</th>\n",
       "      <th>V22</th>\n",
       "      <th>V23</th>\n",
       "      <th>V24</th>\n",
       "      <th>V25</th>\n",
       "      <th>V26</th>\n",
       "      <th>V27</th>\n",
       "      <th>V28</th>\n",
       "      <th>Amount</th>\n",
       "      <th>Class</th>\n",
       "    </tr>\n",
       "  </thead>\n",
       "  <tbody>\n",
       "    <tr>\n",
       "      <th>0</th>\n",
       "      <td>0.0</td>\n",
       "      <td>-1.359807</td>\n",
       "      <td>-0.072781</td>\n",
       "      <td>2.536347</td>\n",
       "      <td>1.378155</td>\n",
       "      <td>-0.338321</td>\n",
       "      <td>0.462388</td>\n",
       "      <td>0.239599</td>\n",
       "      <td>0.098698</td>\n",
       "      <td>0.363787</td>\n",
       "      <td>...</td>\n",
       "      <td>-0.018307</td>\n",
       "      <td>0.277838</td>\n",
       "      <td>-0.110474</td>\n",
       "      <td>0.066928</td>\n",
       "      <td>0.128539</td>\n",
       "      <td>-0.189115</td>\n",
       "      <td>0.133558</td>\n",
       "      <td>-0.021053</td>\n",
       "      <td>149.62</td>\n",
       "      <td>0</td>\n",
       "    </tr>\n",
       "  </tbody>\n",
       "</table>\n",
       "<p>1 rows × 31 columns</p>\n",
       "</div>"
      ]
     },
     "output_type": "execute_result",
     "metadata": {}
    }
   ],
   "source": [
    "# Check sample data\n",
    "cc.head(1)"
   ]
  },
  {
   "cell_type": "code",
   "execution_count": 14,
   "metadata": {},
   "outputs": [
    {
     "data": {
      "text/plain": [
       "(284807, 31)"
      ]
     },
     "execution_count": 14,
     "output_type": "execute_result",
     "metadata": {}
    }
   ],
   "source": [
    "# Check the number of rows/columns\n",
    "cc.shape"
   ]
  },
  {
   "cell_type": "markdown",
   "metadata": {},
   "source": [
    "Now that the data is properly imported, check the descriptive statistics of the columns in the dataset."
   ]
  },
  {
   "cell_type": "code",
   "execution_count": 15,
   "metadata": {},
   "outputs": [
    {
     "name": "stdout",
     "output_type": "stream",
     "text": [
      "                Time            V1            V2            V3            V4  \\\n",
      "count  284807.000000  2.848070e+05  2.848070e+05  2.848070e+05  2.848070e+05   \n",
      "mean    94813.859575  1.165980e-15  3.416908e-16 -1.373150e-15  2.086869e-15   \n",
      "std     47488.145955  1.958696e+00  1.651309e+00  1.516255e+00  1.415869e+00   \n",
      "min         0.000000 -5.640751e+01 -7.271573e+01 -4.832559e+01 -5.683171e+00   \n",
      "25%     54201.500000 -9.203734e-01 -5.985499e-01 -8.903648e-01 -8.486401e-01   \n",
      "50%     84692.000000  1.810880e-02  6.548556e-02  1.798463e-01 -1.984653e-02   \n",
      "75%    139320.500000  1.315642e+00  8.037239e-01  1.027196e+00  7.433413e-01   \n",
      "max    172792.000000  2.454930e+00  2.205773e+01  9.382558e+00  1.687534e+01   \n",
      "\n",
      "                 V5            V6            V7            V8            V9  \\\n",
      "count  2.848070e+05  2.848070e+05  2.848070e+05  2.848070e+05  2.848070e+05   \n",
      "mean   9.604066e-16  1.490107e-15 -5.556467e-16  1.177556e-16 -2.406455e-15   \n",
      "std    1.380247e+00  1.332271e+00  1.237094e+00  1.194353e+00  1.098632e+00   \n",
      "min   -1.137433e+02 -2.616051e+01 -4.355724e+01 -7.321672e+01 -1.343407e+01   \n",
      "25%   -6.915971e-01 -7.682956e-01 -5.540759e-01 -2.086297e-01 -6.430976e-01   \n",
      "50%   -5.433583e-02 -2.741871e-01  4.010308e-02  2.235804e-02 -5.142873e-02   \n",
      "75%    6.119264e-01  3.985649e-01  5.704361e-01  3.273459e-01  5.971390e-01   \n",
      "max    3.480167e+01  7.330163e+01  1.205895e+02  2.000721e+01  1.559499e+01   \n",
      "\n",
      "           ...                 V21           V22           V23           V24  \\\n",
      "count      ...        2.848070e+05  2.848070e+05  2.848070e+05  2.848070e+05   \n",
      "mean       ...        1.656562e-16 -3.444850e-16  2.578648e-16  4.471968e-15   \n",
      "std        ...        7.345240e-01  7.257016e-01  6.244603e-01  6.056471e-01   \n",
      "min        ...       -3.483038e+01 -1.093314e+01 -4.480774e+01 -2.836627e+00   \n",
      "25%        ...       -2.283949e-01 -5.423504e-01 -1.618463e-01 -3.545861e-01   \n",
      "50%        ...       -2.945017e-02  6.781943e-03 -1.119293e-02  4.097606e-02   \n",
      "75%        ...        1.863772e-01  5.285536e-01  1.476421e-01  4.395266e-01   \n",
      "max        ...        2.720284e+01  1.050309e+01  2.252841e+01  4.584549e+00   \n",
      "\n",
      "                V25           V26           V27           V28         Amount  \\\n",
      "count  2.848070e+05  2.848070e+05  2.848070e+05  2.848070e+05  284807.000000   \n",
      "mean   5.340915e-16  1.687098e-15 -3.666453e-16 -1.220404e-16      88.349619   \n",
      "std    5.212781e-01  4.822270e-01  4.036325e-01  3.300833e-01     250.120109   \n",
      "min   -1.029540e+01 -2.604551e+00 -2.256568e+01 -1.543008e+01       0.000000   \n",
      "25%   -3.171451e-01 -3.269839e-01 -7.083953e-02 -5.295979e-02       5.600000   \n",
      "50%    1.659350e-02 -5.213911e-02  1.342146e-03  1.124383e-02      22.000000   \n",
      "75%    3.507156e-01  2.409522e-01  9.104512e-02  7.827995e-02      77.165000   \n",
      "max    7.519589e+00  3.517346e+00  3.161220e+01  3.384781e+01   25691.160000   \n",
      "\n",
      "               Class  \n",
      "count  284807.000000  \n",
      "mean        0.001727  \n",
      "std         0.041527  \n",
      "min         0.000000  \n",
      "25%         0.000000  \n",
      "50%         0.000000  \n",
      "75%         0.000000  \n",
      "max         1.000000  \n",
      "\n",
      "[8 rows x 31 columns]\n"
     ]
    }
   ],
   "source": [
    "# Check data statistics\n",
    "print(cc.describe())"
   ]
  },
  {
   "cell_type": "markdown",
   "metadata": {},
   "source": [
    "Here we visualize and access the distribution of the variable 'Class'. This is the variable which indicates whether a transaction was fraud/normal. "
   ]
  },
  {
   "cell_type": "code",
   "execution_count": 16,
   "metadata": {},
   "outputs": [],
   "source": [
    "from matplotlib import pyplot as plt"
   ]
  },
  {
   "cell_type": "code",
   "execution_count": 17,
   "metadata": {},
   "outputs": [
    {
     "data": {
      "image/png": "[encoded data removed]"
     },
     "output_type": "display_data",
     "metadata": {}
    }
   ],
   "source": [
    "# Variable class is used for the classification of entries as fraud/non-fraud, check the distribution of the variable\n",
    "class_freq = pd.value_counts(cc['Class'], sort = True)\n",
    "class_freq.plot(kind = 'bar', rot=0)\n",
    "plt.title(\"Class Frequency\")\n",
    "plt.xlabel(\"Class\")\n",
    "plt.ylabel(\"Frequency\");"
   ]
  },
  {
   "cell_type": "code",
   "execution_count": 18,
   "metadata": {},
   "outputs": [
    {
     "name": "stdout",
     "output_type": "stream",
     "text": [
      "Number of Fraud transactions:\n",
      "(492, 31)\n",
      "Number of Non-Fraud transactions:\n",
      "(284315, 31)\n",
      "% of Fraud transactions:\n",
      "0.1727485630620034\n"
     ]
    }
   ],
   "source": [
    "# Count of Fraud/normal transactions\n",
    "fraud = cc[cc.Class == 1]\n",
    "normal = cc[cc.Class == 0]\n",
    "print(\"Number of Fraud transactions:\")\n",
    "print(fraud.shape)\n",
    "print(\"Number of Non-Fraud transactions:\")\n",
    "print(normal.shape)\n",
    "print(\"% of Fraud transactions:\")\n",
    "prop = (len(fraud)/(len(fraud)+len(normal)))*100\n",
    "print(prop)"
   ]
  },
  {
   "cell_type": "markdown",
   "metadata": {},
   "source": [
    "Check to see how the fraud/normal transactions vary in terms of variable 'Amount'."
   ]
  },
  {
   "cell_type": "code",
   "execution_count": 19,
   "metadata": {},
   "outputs": [
    {
     "data": {
      "text/plain": [
       "count     492.000000\n",
       "mean      122.211321\n",
       "std       256.683288\n",
       "min         0.000000\n",
       "25%         1.000000\n",
       "50%         9.250000\n",
       "75%       105.890000\n",
       "max      2125.870000\n",
       "Name: Amount, dtype: float64"
      ]
     },
     "execution_count": 19,
     "output_type": "execute_result",
     "metadata": {}
    }
   ],
   "source": [
    "# Check Fraud data statistics for variable = 'Amount'\n",
    "fraud.Amount.describe()"
   ]
  },
  {
   "cell_type": "code",
   "execution_count": 20,
   "metadata": {},
   "outputs": [
    {
     "data": {
      "text/plain": [
       "count    284315.000000\n",
       "mean         88.291022\n",
       "std         250.105092\n",
       "min           0.000000\n",
       "25%           5.650000\n",
       "50%          22.000000\n",
       "75%          77.050000\n",
       "max       25691.160000\n",
       "Name: Amount, dtype: float64"
      ]
     },
     "execution_count": 20,
     "output_type": "execute_result",
     "metadata": {}
    }
   ],
   "source": [
    "# Compare Fraud data statistics with normal data for variable = 'Amount'\n",
    "normal.Amount.describe()"
   ]
  },
  {
   "cell_type": "markdown",
   "metadata": {},
   "source": [
    "## Modeling "
   ]
  },
  {
   "cell_type": "markdown",
   "metadata": {},
   "source": [
    "First exclude the variable 'Time'. Since the spread of the variable 'Amount' is large, this variable is standardized. "
   ]
  },
  {
   "cell_type": "code",
   "execution_count": 21,
   "metadata": {},
   "outputs": [],
   "source": [
    "# Remove the column 'Time' and standardize the variable 'Amount'\n",
    "from sklearn.preprocessing import StandardScaler\n",
    "data = cc.drop(['Time'], axis=1)\n",
    "data['Amount'] = StandardScaler().fit_transform(data['Amount'].values.reshape(-1, 1))"
   ]
  },
  {
   "cell_type": "markdown",
   "metadata": {},
   "source": [
    "Next step is to split the data into train/test."
   ]
  },
  {
   "cell_type": "code",
   "execution_count": 22,
   "metadata": {},
   "outputs": [
    {
     "name": "stdout",
     "output_type": "stream",
     "text": [
      "X_train:\n",
      "(199364, 29)\n",
      "X_test:\n",
      "(85443, 29)\n"
     ]
    }
   ],
   "source": [
    "# Split the data into train/test and remove variable 'Class' and prepare for autoencoder\n",
    "X_train, X_test = train_test_split(data, test_size=0.3, random_state=123)\n",
    "X_train = X_train.drop(['Class'], axis=1)\n",
    "y_test = X_test['Class']\n",
    "X_test = X_test.drop(['Class'], axis=1)\n",
    "X_train = X_train.values\n",
    "X_test = X_test.values\n",
    "\n",
    "print(\"X_train:\")\n",
    "print(X_train.shape)\n",
    "print(\"X_test:\")\n",
    "print(X_test.shape)"
   ]
  },
  {
   "cell_type": "code",
   "execution_count": 23,
   "metadata": {},
   "outputs": [
    {
     "data": {
      "text/plain": [
       "array([ 2.15574786, -0.99822258, -1.15897829, -0.99229813, -0.48459951,\n",
       "       -0.30885748, -0.67707687, -0.19351731, -0.08302644,  0.70535673,\n",
       "       -1.55210692, -0.41524791,  1.04034025, -0.53313654,  0.07619587,\n",
       "        1.2201284 , -0.14748371, -1.22145703,  0.87802608,  0.12463626,\n",
       "        0.17477517,  0.51900531,  0.00346   , -1.01796213, -0.00946463,\n",
       "       -0.11843454, -0.00634987, -0.05337546, -0.12134039])"
      ]
     },
     "execution_count": 23,
     "output_type": "execute_result",
     "metadata": {}
    }
   ],
   "source": [
    "X_test[1]"
   ]
  },
  {
   "cell_type": "markdown",
   "metadata": {},
   "source": [
    "Define the framework for the autoencoder and then compile and fit using the training data."
   ]
  },
  {
   "cell_type": "code",
   "execution_count": 24,
   "metadata": {},
   "outputs": [],
   "source": [
    "# Define the encoded/decoder framework\n",
    "input_dim = X_train.shape[1]\n",
    "encoding_dim = 14\n",
    "\n",
    "input_layer = Input(shape=(input_dim, ))\n",
    "encoder = Dense(encoding_dim, activation=\"tanh\", activity_regularizer=regularizers.l1(10e-5))(input_layer)\n",
    "decoder = Dense(int(encoding_dim / 2), activation='tanh')(encoder)\n",
    "decoder = Dense(input_dim, activation='relu')(decoder)\n",
    "autoencoder = Model(inputs=input_layer, outputs=decoder)"
   ]
  },
  {
   "cell_type": "code",
   "execution_count": 25,
   "metadata": {},
   "outputs": [
    {
     "name": "stdout",
     "output_type": "stream",
     "text": [
      "Train on 199364 samples, validate on 85443 samples\n",
      "Epoch 1/5\n",
      "199364/199364 [==============================] - 15s 74us/step - loss: 0.8534 - acc: 0.5970 - val_loss: 0.7937 - val_acc: 0.6356\n",
      "Epoch 2/5\n",
      "199364/199364 [==============================] - 15s 76us/step - loss: 0.7979 - acc: 0.6400 - val_loss: 0.7790 - val_acc: 0.6412\n",
      "Epoch 3/5\n",
      "199364/199364 [==============================] - 15s 73us/step - loss: 0.7886 - acc: 0.6447 - val_loss: 0.7738 - val_acc: 0.6429\n",
      "Epoch 4/5\n",
      "199364/199364 [==============================] - 15s 73us/step - loss: 0.7843 - acc: 0.6457 - val_loss: 0.7694 - val_acc: 0.6444\n",
      "Epoch 5/5\n",
      "199364/199364 [==============================] - 15s 74us/step - loss: 0.7810 - acc: 0.6488 - val_loss: 0.7669 - val_acc: 0.6412\n"
     ]
    }
   ],
   "source": [
    "# Compile and fit the autoencoder\n",
    "nb_epoch = 5\n",
    "batch_size = 32\n",
    "autoencoder.compile(optimizer='adam', loss='mean_squared_error', metrics=['accuracy'])\n",
    "\n",
    "checkpointer = ModelCheckpoint(filepath=\"model.h5\", verbose=0, save_best_only=True)\n",
    "\n",
    "history = autoencoder.fit(X_train, X_train, epochs=nb_epoch, batch_size=batch_size, shuffle=True, validation_data=(X_test, X_test), verbose=1).history"
   ]
  },
  {
   "cell_type": "code",
   "execution_count": 26,
   "metadata": {},
   "outputs": [],
   "source": [
    "predictions = autoencoder.predict(X_test)\n",
    "mse = np.mean(np.power(X_test - predictions, 2), axis=1)"
   ]
  },
  {
   "cell_type": "code",
   "execution_count": 27,
   "metadata": {},
   "outputs": [
    {
     "data": {
      "text/html": [
       "<div>\n",
       "<style scoped>\n",
       "    .dataframe tbody tr th:only-of-type {\n",
       "        vertical-align: middle;\n",
       "    }\n",
       "\n",
       "    .dataframe tbody tr th {\n",
       "        vertical-align: top;\n",
       "    }\n",
       "\n",
       "    .dataframe thead th {\n",
       "        text-align: right;\n",
       "    }\n",
       "</style>\n",
       "<table border=\"1\" class=\"dataframe\">\n",
       "  <thead>\n",
       "    <tr style=\"text-align: right;\">\n",
       "      <th></th>\n",
       "      <th>reconstruction_error</th>\n",
       "      <th>true_class</th>\n",
       "    </tr>\n",
       "  </thead>\n",
       "  <tbody>\n",
       "    <tr>\n",
       "      <th>count</th>\n",
       "      <td>85443.000000</td>\n",
       "      <td>85443.000000</td>\n",
       "    </tr>\n",
       "    <tr>\n",
       "      <th>mean</th>\n",
       "      <td>0.759570</td>\n",
       "      <td>0.001873</td>\n",
       "    </tr>\n",
       "    <tr>\n",
       "      <th>std</th>\n",
       "      <td>3.740318</td>\n",
       "      <td>0.043233</td>\n",
       "    </tr>\n",
       "    <tr>\n",
       "      <th>min</th>\n",
       "      <td>0.050708</td>\n",
       "      <td>0.000000</td>\n",
       "    </tr>\n",
       "    <tr>\n",
       "      <th>25%</th>\n",
       "      <td>0.251755</td>\n",
       "      <td>0.000000</td>\n",
       "    </tr>\n",
       "    <tr>\n",
       "      <th>50%</th>\n",
       "      <td>0.408373</td>\n",
       "      <td>0.000000</td>\n",
       "    </tr>\n",
       "    <tr>\n",
       "      <th>75%</th>\n",
       "      <td>0.648617</td>\n",
       "      <td>0.000000</td>\n",
       "    </tr>\n",
       "    <tr>\n",
       "      <th>max</th>\n",
       "      <td>438.508700</td>\n",
       "      <td>1.000000</td>\n",
       "    </tr>\n",
       "  </tbody>\n",
       "</table>\n",
       "</div>"
      ]
     },
     "output_type": "execute_result",
     "metadata": {}
    }
   ],
   "source": [
    "error_df = pd.DataFrame({'reconstruction_error': mse, 'true_class': y_test})\n",
    "error_df.describe()"
   ]
  },
  {
   "cell_type": "markdown",
   "metadata": {},
   "source": [
    "The model can be accessed based on various metrics: ROC curve, precision, recall based on the business requirement. "
   ]
  },
  {
   "cell_type": "code",
   "execution_count": 28,
   "metadata": {},
   "outputs": [],
   "source": [
    "# Metrics\n",
    "from sklearn.metrics import (confusion_matrix, precision_recall_curve, auc,\n",
    "                             roc_curve, recall_score, classification_report, f1_score,\n",
    "                             precision_recall_fscore_support)"
   ]
  },
  {
   "cell_type": "code",
   "execution_count": 29,
   "metadata": {},
   "outputs": [
    {
     "data": {
      "image/png": "[encoded data removed]"
     },
     "output_type": "display_data",
     "metadata": {}
    }
   ],
   "source": [
    "fpr, tpr, thresholds = roc_curve(error_df.true_class, error_df.reconstruction_error)\n",
    "roc_auc = auc(fpr, tpr)\n",
    "\n",
    "plt.title('ROC curve')\n",
    "plt.plot(fpr, tpr, label='AUC = %0.2f'% roc_auc)\n",
    "plt.legend(loc='lower right')\n",
    "plt.plot([0,1],[0,1],'o--')\n",
    "plt.xlim([0, 1])\n",
    "plt.ylim([0, 1])\n",
    "plt.ylabel('True Positive Rate (TPR)')\n",
    "plt.xlabel('False Positive Rate (FPR)')\n",
    "plt.show();"
   ]
  },
  {
   "cell_type": "code",
   "execution_count": 30,
   "metadata": {},
   "outputs": [
    {
     "data": {
      "image/png": "[encoded data removed]"
     },
     "output_type": "display_data",
     "metadata": {}
    }
   ],
   "source": [
    "precision, recall, th = precision_recall_curve(error_df.true_class, error_df.reconstruction_error)\n",
    "plt.plot(recall, precision, 'b', label='Precision-Recall curve')\n",
    "plt.title('Recall vs Precision')\n",
    "plt.xlabel('Recall')\n",
    "plt.ylabel('Precision')\n",
    "plt.show()"
   ]
  },
  {
   "cell_type": "markdown",
   "metadata": {},
   "source": [
    "## Saving the model"
   ]
  },
  {
   "cell_type": "code",
   "execution_count": 31,
   "metadata": {},
   "outputs": [
    {
     "data": {
      "text/plain": [
       "<keras.engine.training.Model at 0x7f933c697d30>"
      ]
     },
     "execution_count": 31,
     "output_type": "execute_result",
     "metadata": {}
    }
   ],
   "source": [
    "autoencoder"
   ]
  },
  {
   "cell_type": "code",
   "execution_count": 32,
   "metadata": {},
   "outputs": [
    {
     "name": "stdout",
     "output_type": "stream",
     "text": [
      "Model saved\n"
     ]
    }
   ],
   "source": [
    "# Save the model for operationalization: https://machinelearningmastery.com/save-load-keras-deep-learning-models/\n",
    "from keras.models import model_from_json\n",
    "import os\n",
    "import h5py\n",
    "from sklearn import datasets \n",
    " \n",
    "# save model\n",
    "# serialize model to JSON\n",
    "model_json = autoencoder.to_json()\n",
    "with open(os.environ['AZUREML_NATIVE_SHARE_DIRECTORY'] +\"autoencoder.json\", \"w\") as json_file:\n",
    "    json_file.write(model_json)\n",
    "# serialize weights to HDF5\n",
    "autoencoder.save_weights(os.path.join(os.environ['AZUREML_NATIVE_SHARE_DIRECTORY'], \"autoencoder.h5\"))\n",
    "print(\"Model saved\")"
   ]
  },
  {
   "cell_type": "code",
   "execution_count": 33,
   "metadata": {},
   "outputs": [
    {
     "name": "stdout",
     "output_type": "stream",
     "text": [
      "Model loaded\n"
     ]
    }
   ],
   "source": [
    "# load json and create model\n",
    "json_file = open(os.environ['AZUREML_NATIVE_SHARE_DIRECTORY'] +'autoencoder.json', 'r')\n",
    "loaded_model_json = json_file.read()\n",
    "json_file.close()\n",
    "loaded_model = model_from_json(loaded_model_json)\n",
    "# load weights into new model\n",
    "loaded_model.load_weights(os.path.join(os.environ['AZUREML_NATIVE_SHARE_DIRECTORY'],\"autoencoder.h5\"))\n",
    "print(\"Model loaded\")"
   ]
  },
  {
   "cell_type": "code",
   "execution_count": 34,
   "metadata": {},
   "outputs": [
    {
     "name": "stdout",
     "output_type": "stream",
     "text": [
      "(85443, 29)\n"
     ]
    }
   ],
   "source": [
    "score = loaded_model.predict(X_test)\n",
    "print(score.shape)"
   ]
  },
  {
   "cell_type": "code",
   "execution_count": 35,
   "metadata": {},
   "outputs": [
    {
     "data": {
      "text/plain": [
       "array([2.1914716 , 0.        , 0.        , 0.        , 0.        ,\n",
       "       0.        , 0.        , 0.        , 0.00409213, 1.0543662 ,\n",
       "       0.        , 0.        , 0.        , 0.        , 0.2314117 ,\n",
       "       0.8779192 , 0.        , 0.        , 0.43132922, 0.        ,\n",
       "       0.        , 0.03038263, 0.04093704, 0.        , 0.02934054,\n",
       "       0.        , 0.        , 0.        , 0.        ], dtype=float32)"
      ]
     },
     "execution_count": 35,
     "output_type": "execute_result",
     "metadata": {}
    }
   ],
   "source": [
    "score[1]"
   ]
  },
  {
   "cell_type": "code",
   "execution_count": 36,
   "metadata": {},
   "outputs": [
    {
     "data": {
      "text/plain": [
       "array([ 2.15574786, -0.99822258, -1.15897829, -0.99229813, -0.48459951,\n",
       "       -0.30885748, -0.67707687, -0.19351731, -0.08302644,  0.70535673,\n",
       "       -1.55210692, -0.41524791,  1.04034025, -0.53313654,  0.07619587,\n",
       "        1.2201284 , -0.14748371, -1.22145703,  0.87802608,  0.12463626,\n",
       "        0.17477517,  0.51900531,  0.00346   , -1.01796213, -0.00946463,\n",
       "       -0.11843454, -0.00634987, -0.05337546, -0.12134039])"
      ]
     },
     "execution_count": 36,
     "output_type": "execute_result",
     "metadata": {}
    }
   ],
   "source": [
    "X_test[1]"
   ]
  },
  {
   "cell_type": "markdown",
   "metadata": {},
   "source": [
    "## Operationalization"
   ]
  },
  {
   "cell_type": "markdown",
   "metadata": {},
   "source": [
    "## Test init() and run() functions\n",
    "The web service requires two functions, an init() function that will initialize the web service by loading the model into the service, and a run() function that will engineer the features to match the model call structure, and score that data set. We create the functions in here for testing and debugging."
   ]
  },
  {
   "cell_type": "code",
   "execution_count": 37,
   "metadata": {},
   "outputs": [],
   "source": [
    "def init():\n",
    "    # read in the model file\n",
    "    from keras.models import model_from_json\n",
    "    global loaded_model\n",
    "    \n",
    "    # load json and create model\n",
    "    with open(os.environ['AZUREML_NATIVE_SHARE_DIRECTORY'] +'autoencoder.json', 'r') as json_file:\n",
    "        loaded_model_json = json_file.read()\n",
    "        json_file.close()\n",
    "        loaded_model = model_from_json(loaded_model_json)"
   ]
  },
  {
   "cell_type": "code",
   "execution_count": 38,
   "metadata": {},
   "outputs": [
    {
     "data": {
      "text/html": [
       "<div>\n",
       "<style scoped>\n",
       "    .dataframe tbody tr th:only-of-type {\n",
       "        vertical-align: middle;\n",
       "    }\n",
       "\n",
       "    .dataframe tbody tr th {\n",
       "        vertical-align: top;\n",
       "    }\n",
       "\n",
       "    .dataframe thead th {\n",
       "        text-align: right;\n",
       "    }\n",
       "</style>\n",
       "<table border=\"1\" class=\"dataframe\">\n",
       "  <thead>\n",
       "    <tr style=\"text-align: right;\">\n",
       "      <th></th>\n",
       "      <th>Time</th>\n",
       "      <th>V1</th>\n",
       "      <th>V2</th>\n",
       "      <th>V3</th>\n",
       "      <th>V4</th>\n",
       "      <th>V5</th>\n",
       "      <th>V6</th>\n",
       "      <th>V7</th>\n",
       "      <th>V8</th>\n",
       "      <th>V9</th>\n",
       "      <th>...</th>\n",
       "      <th>V21</th>\n",
       "      <th>V22</th>\n",
       "      <th>V23</th>\n",
       "      <th>V24</th>\n",
       "      <th>V25</th>\n",
       "      <th>V26</th>\n",
       "      <th>V27</th>\n",
       "      <th>V28</th>\n",
       "      <th>Amount</th>\n",
       "      <th>Class</th>\n",
       "    </tr>\n",
       "  </thead>\n",
       "  <tbody>\n",
       "    <tr>\n",
       "      <th>0</th>\n",
       "      <td>0.0</td>\n",
       "      <td>-1.359807</td>\n",
       "      <td>-0.072781</td>\n",
       "      <td>2.536347</td>\n",
       "      <td>1.378155</td>\n",
       "      <td>-0.338321</td>\n",
       "      <td>0.462388</td>\n",
       "      <td>0.239599</td>\n",
       "      <td>0.098698</td>\n",
       "      <td>0.363787</td>\n",
       "      <td>...</td>\n",
       "      <td>-0.018307</td>\n",
       "      <td>0.277838</td>\n",
       "      <td>-0.110474</td>\n",
       "      <td>0.066928</td>\n",
       "      <td>0.128539</td>\n",
       "      <td>-0.189115</td>\n",
       "      <td>0.133558</td>\n",
       "      <td>-0.021053</td>\n",
       "      <td>149.62</td>\n",
       "      <td>0</td>\n",
       "    </tr>\n",
       "    <tr>\n",
       "      <th>1</th>\n",
       "      <td>0.0</td>\n",
       "      <td>1.191857</td>\n",
       "      <td>0.266151</td>\n",
       "      <td>0.166480</td>\n",
       "      <td>0.448154</td>\n",
       "      <td>0.060018</td>\n",
       "      <td>-0.082361</td>\n",
       "      <td>-0.078803</td>\n",
       "      <td>0.085102</td>\n",
       "      <td>-0.255425</td>\n",
       "      <td>...</td>\n",
       "      <td>-0.225775</td>\n",
       "      <td>-0.638672</td>\n",
       "      <td>0.101288</td>\n",
       "      <td>-0.339846</td>\n",
       "      <td>0.167170</td>\n",
       "      <td>0.125895</td>\n",
       "      <td>-0.008983</td>\n",
       "      <td>0.014724</td>\n",
       "      <td>2.69</td>\n",
       "      <td>0</td>\n",
       "    </tr>\n",
       "    <tr>\n",
       "      <th>2</th>\n",
       "      <td>1.0</td>\n",
       "      <td>-1.358354</td>\n",
       "      <td>-1.340163</td>\n",
       "      <td>1.773209</td>\n",
       "      <td>0.379780</td>\n",
       "      <td>-0.503198</td>\n",
       "      <td>1.800499</td>\n",
       "      <td>0.791461</td>\n",
       "      <td>0.247676</td>\n",
       "      <td>-1.514654</td>\n",
       "      <td>...</td>\n",
       "      <td>0.247998</td>\n",
       "      <td>0.771679</td>\n",
       "      <td>0.909412</td>\n",
       "      <td>-0.689281</td>\n",
       "      <td>-0.327642</td>\n",
       "      <td>-0.139097</td>\n",
       "      <td>-0.055353</td>\n",
       "      <td>-0.059752</td>\n",
       "      <td>378.66</td>\n",
       "      <td>0</td>\n",
       "    </tr>\n",
       "    <tr>\n",
       "      <th>3</th>\n",
       "      <td>1.0</td>\n",
       "      <td>-0.966272</td>\n",
       "      <td>-0.185226</td>\n",
       "      <td>1.792993</td>\n",
       "      <td>-0.863291</td>\n",
       "      <td>-0.010309</td>\n",
       "      <td>1.247203</td>\n",
       "      <td>0.237609</td>\n",
       "      <td>0.377436</td>\n",
       "      <td>-1.387024</td>\n",
       "      <td>...</td>\n",
       "      <td>-0.108300</td>\n",
       "      <td>0.005274</td>\n",
       "      <td>-0.190321</td>\n",
       "      <td>-1.175575</td>\n",
       "      <td>0.647376</td>\n",
       "      <td>-0.221929</td>\n",
       "      <td>0.062723</td>\n",
       "      <td>0.061458</td>\n",
       "      <td>123.50</td>\n",
       "      <td>0</td>\n",
       "    </tr>\n",
       "    <tr>\n",
       "      <th>4</th>\n",
       "      <td>2.0</td>\n",
       "      <td>-1.158233</td>\n",
       "      <td>0.877737</td>\n",
       "      <td>1.548718</td>\n",
       "      <td>0.403034</td>\n",
       "      <td>-0.407193</td>\n",
       "      <td>0.095921</td>\n",
       "      <td>0.592941</td>\n",
       "      <td>-0.270533</td>\n",
       "      <td>0.817739</td>\n",
       "      <td>...</td>\n",
       "      <td>-0.009431</td>\n",
       "      <td>0.798278</td>\n",
       "      <td>-0.137458</td>\n",
       "      <td>0.141267</td>\n",
       "      <td>-0.206010</td>\n",
       "      <td>0.502292</td>\n",
       "      <td>0.219422</td>\n",
       "      <td>0.215153</td>\n",
       "      <td>69.99</td>\n",
       "      <td>0</td>\n",
       "    </tr>\n",
       "  </tbody>\n",
       "</table>\n",
       "<p>5 rows × 31 columns</p>\n",
       "</div>"
      ]
     },
     "output_type": "execute_result",
     "metadata": {}
    }
   ],
   "source": [
    "# sample data to test init() and run() functions\n",
    "test_run = cc.head(5)\n",
    "test_run"
   ]
  },
  {
   "cell_type": "code",
   "execution_count": 39,
   "metadata": {},
   "outputs": [],
   "source": [
    "# test with original input columns\n",
    "def run(test_run): \n",
    "    \n",
    "    # data prep\n",
    "    # pick the feature columns   \n",
    "    input_data = test_run.drop(['Time', 'Class'], axis=1)\n",
    "#    print(input_data.head(1))\n",
    "    \n",
    "    try:\n",
    "        prediction = loaded_model.predict(input_data)\n",
    "        #print(prediction)\n",
    "        pred = prediction.tolist()\n",
    "        return(pred)\n",
    "    except Exception as e:\n",
    "        return(str(e))"
   ]
  },
  {
   "cell_type": "code",
   "execution_count": 40,
   "metadata": {},
   "outputs": [],
   "source": [
    "init()"
   ]
  },
  {
   "cell_type": "code",
   "execution_count": 41,
   "metadata": {},
   "outputs": [],
   "source": [
    "prob=run(test_run)"
   ]
  },
  {
   "cell_type": "code",
   "execution_count": 42,
   "metadata": {},
   "outputs": [
    {
     "data": {
      "text/plain": [
       "[0.0,\n",
       " 0.0,\n",
       " 0.0,\n",
       " 0.0,\n",
       " 0.45636293292045593,\n",
       " 0.0951371118426323,\n",
       " 0.46782439947128296,\n",
       " 0.0,\n",
       " 0.0,\n",
       " 0.0,\n",
       " 0.0,\n",
       " 0.0,\n",
       " 0.0,\n",
       " 0.48221734166145325,\n",
       " 1.0084260702133179,\n",
       " 0.6066235899925232,\n",
       " 0.0,\n",
       " 0.7527502179145813,\n",
       " 0.0,\n",
       " 0.5569592118263245,\n",
       " 0.0,\n",
       " 0.0,\n",
       " 0.0,\n",
       " 0.5078699588775635,\n",
       " 0.0,\n",
       " 0.0,\n",
       " 0.18658503890037537,\n",
       " 0.0,\n",
       " 0.0]"
      ]
     },
     "execution_count": 42,
     "output_type": "execute_result",
     "metadata": {}
    }
   ],
   "source": [
    "prob[1]"
   ]
  },
  {
   "cell_type": "markdown",
   "metadata": {},
   "source": [
    "## Persist model assets\n",
    "\n",
    "Next we persist the assets we have created earlier. First we need to define the schema."
   ]
  },
  {
   "cell_type": "code",
   "execution_count": 43,
   "metadata": {},
   "outputs": [],
   "source": [
    "# define the input data frame\n",
    "inputs = {\"test_run\": SampleDefinition(DataTypes.PANDAS, test_run)}\n",
    "\n",
    "json_schema = generate_schema(run_func=run, inputs=inputs, filepath='service_schema.json')\n",
    "\n",
    "# save the schema file for deployment\n",
    "out = json.dumps(json_schema)\n",
    "with open(os.environ['AZUREML_NATIVE_SHARE_DIRECTORY'] + 'service_schema.json', 'w') as f:\n",
    "    f.write(out)"
   ]
  },
  {
   "cell_type": "code",
   "execution_count": 44,
   "metadata": {},
   "outputs": [
    {
     "data": {
      "text/plain": [
       "'{\"input\": {\"test_run\": {\"internal\": \"gANjYXp1cmVtbC5hcGkuc2NoZW1hLnBhbmRhc1V0aWwKUGFuZGFzU2NoZW1hCnEAKYFxAX1xAihYCgAAAHNjaGVtYV9tYXBxA31xBChYAwAAAFYxNHEFY251bXB5CmR0eXBlCnEGWAIAAABmOHEHSwBLAYdxCFJxCShLA1gBAAAAPHEKTk5OSv////9K/////0sAdHELYlgDAAAAVjEwcQxoCVgCAAAAVjFxDWgJWAMAAABWMTFxDmgJWAMAAABWMjRxD2gJWAIAAABWOHEQaAlYAwAAAFYxOHERaAlYAwAAAFYxNXESaAlYAgAAAFYzcRNoCVgDAAAAVjEycRRoCVgDAAAAVjE3cRVoCVgDAAAAVjE2cRZoCVgDAAAAVjIwcRdoCVgDAAAAVjEzcRhoCVgDAAAAVjIzcRloCVgDAAAAVjI1cRpoCVgCAAAAVjlxG2gJWAMAAABWMjZxHGgJWAIAAABWNHEdaAlYAgAAAFY1cR5oCVgCAAAAVjJxH2gJWAIAAABWN3EgaAlYAwAAAFYyMXEhaAlYAwAAAFYyMnEiaAlYAwAAAFYxOXEjaAlYBQAAAENsYXNzcSRoBlgCAAAAaThxJUsASwGHcSZScScoSwNoCk5OTkr/////Sv////9LAHRxKGJYAgAAAFY2cSloCVgDAAAAVjI3cSpoCVgGAAAAQW1vdW50cStoCVgDAAAAVjI4cSxoCVgEAAAAVGltZXEtaAl1WAwAAABjb2x1bW5fdHlwZXNxLl1xLyhoCWgJaAloCWgJaAloCWgJaAloCWgJaAloCWgJaAloCWgJaAloCWgJaAloCWgJaAloCWgJaAloCWgJaAloJ2VYBQAAAHNoYXBlcTBLBUsfhnExWAwAAABjb2x1bW5fbmFtZXNxMl1xMyhoLWgNaB9oE2gdaB5oKWggaBBoG2gMaA5oFGgYaAVoEmgWaBVoEWgjaBdoIWgiaBloD2gaaBxoKmgsaCtoJGV1Yi4=\", \"type\": 3, \"swagger\": {\"items\": {\"type\": \"object\", \"properties\": {\"V14\": {\"format\": \"double\", \"type\": \"number\"}, \"V10\": {\"format\": \"double\", \"type\": \"number\"}, \"V1\": {\"format\": \"double\", \"type\": \"number\"}, \"V11\": {\"format\": \"double\", \"type\": \"number\"}, \"V24\": {\"format\": \"double\", \"type\": \"number\"}, \"V8\": {\"format\": \"double\", \"type\": \"number\"}, \"V18\": {\"format\": \"double\", \"type\": \"number\"}, \"V15\": {\"format\": \"double\", \"type\": \"number\"}, \"V3\": {\"format\": \"double\", \"type\": \"number\"}, \"V12\": {\"format\": \"double\", \"type\": \"number\"}, \"V17\": {\"format\": \"double\", \"type\": \"number\"}, \"V16\": {\"format\": \"double\", \"type\": \"number\"}, \"V20\": {\"format\": \"double\", \"type\": \"number\"}, \"V13\": {\"format\": \"double\", \"type\": \"number\"}, \"V23\": {\"format\": \"double\", \"type\": \"number\"}, \"V25\": {\"format\": \"double\", \"type\": \"number\"}, \"V9\": {\"format\": \"double\", \"type\": \"number\"}, \"V26\": {\"format\": \"double\", \"type\": \"number\"}, \"V4\": {\"format\": \"double\", \"type\": \"number\"}, \"V5\": {\"format\": \"double\", \"type\": \"number\"}, \"V2\": {\"format\": \"double\", \"type\": \"number\"}, \"V7\": {\"format\": \"double\", \"type\": \"number\"}, \"V21\": {\"format\": \"double\", \"type\": \"number\"}, \"V22\": {\"format\": \"double\", \"type\": \"number\"}, \"V19\": {\"format\": \"double\", \"type\": \"number\"}, \"Class\": {\"format\": \"int64\", \"type\": \"integer\"}, \"V6\": {\"format\": \"double\", \"type\": \"number\"}, \"V27\": {\"format\": \"double\", \"type\": \"number\"}, \"Amount\": {\"format\": \"double\", \"type\": \"number\"}, \"V28\": {\"format\": \"double\", \"type\": \"number\"}, \"Time\": {\"format\": \"double\", \"type\": \"number\"}}}, \"type\": \"array\", \"example\": [{\"V14\": -0.31116935369987897, \"V10\": 0.0907941719789316, \"V1\": -1.3598071336738, \"V16\": -0.47040052525947795, \"V11\": -0.551599533260813, \"V24\": 0.0669280749146731, \"V26\": -0.189114843888824, \"V18\": 0.0257905801985591, \"V15\": 1.46817697209427, \"V3\": 2.53634673796914, \"V12\": -0.617800855762348, \"V23\": -0.110473910188767, \"V17\": 0.20797124192924202, \"V8\": 0.0986979012610507, \"V2\": -0.0727811733098497, \"V13\": -0.991389847235408, \"V25\": 0.12853935827352803, \"V9\": 0.363786969611213, \"V4\": 1.37815522427443, \"V5\": -0.33832076994251803, \"V20\": 0.251412098239705, \"V7\": 0.239598554061257, \"V21\": -0.018306777944153, \"V22\": 0.277837575558899, \"V19\": 0.403992960255733, \"Class\": 0, \"V6\": 0.462387777762292, \"V27\": 0.13355837674038698, \"Amount\": 149.62, \"V28\": -0.0210530534538215, \"Time\": 0.0}, {\"V14\": -0.143772296441519, \"V10\": -0.16697441400461402, \"V1\": 1.1918571113148602, \"V16\": 0.463917041022171, \"V11\": 1.6127266610547901, \"V24\": -0.33984647552912706, \"V26\": 0.125894532368176, \"V18\": -0.18336127012399397, \"V15\": 0.635558093258208, \"V3\": 0.16648011335321, \"V12\": 1.06523531137287, \"V23\": 0.10128802125323402, \"V17\": -0.114804663102346, \"V8\": 0.0851016549148104, \"V2\": 0.26615071205963, \"V13\": 0.48909501589608, \"V25\": 0.167170404418143, \"V9\": -0.255425128109186, \"V4\": 0.448154078460911, \"V5\": 0.0600176492822243, \"V20\": -0.0690831352230203, \"V7\": -0.0788029833323113, \"V21\": -0.225775248033138, \"V22\": -0.6386719527718511, \"V19\": -0.14578304132525902, \"Class\": 0, \"V6\": -0.0823608088155687, \"V27\": -0.00898309914322813, \"Amount\": 2.69, \"V28\": 0.0147241691924927, \"Time\": 0.0}, {\"V14\": -0.165945922763554, \"V10\": 0.207642865216696, \"V1\": -1.35835406159823, \"V16\": -2.8900831944423104, \"V11\": 0.6245014594248951, \"V24\": -0.689280956490685, \"V26\": -0.139096571514147, \"V18\": -0.12135931319588801, \"V15\": 2.34586494901581, \"V3\": 1.77320934263119, \"V12\": 0.06608368526883099, \"V23\": 0.9094122623477191, \"V17\": 1.10996937869599, \"V8\": 0.24767578658899103, \"V2\": -1.3401630747360902, \"V13\": 0.7172927314108309, \"V25\": -0.3276418337352511, \"V9\": -1.5146543226058302, \"V4\": 0.3797795930343279, \"V5\": -0.503198133318193, \"V20\": 0.524979725224404, \"V7\": 0.7914609564504219, \"V21\": 0.247998153469754, \"V22\": 0.771679401917229, \"V19\": -2.26185709530414, \"Class\": 0, \"V6\": 1.80049938079263, \"V27\": -0.0553527940384261, \"Amount\": 378.66, \"V28\": -0.0597518405929204, \"Time\": 1.0}]}}}}'"
      ]
     },
     "execution_count": 44,
     "output_type": "execute_result",
     "metadata": {}
    }
   ],
   "source": [
    "out"
   ]
  },
  {
   "cell_type": "markdown",
   "metadata": {},
   "source": [
    "The conda dependencies are defined in this `webservices_conda.yaml` file. This will be used to tell the webservice server which python packages are required to run this web service."
   ]
  },
  {
   "cell_type": "code",
   "execution_count": 45,
   "metadata": {},
   "outputs": [
    {
     "name": "stdout",
     "output_type": "stream",
     "text": [
      "Overwriting /azureml-share//webservices_conda.yaml\n"
     ]
    }
   ],
   "source": [
    "%%writefile {os.environ['AZUREML_NATIVE_SHARE_DIRECTORY']}/webservices_conda.yaml\n",
    "\n",
    "# Conda environment specification. The dependencies defined in this file will\n",
    "# be automatically provisioned for managed runs. These include runs against\n",
    "# the localdocker, remotedocker, and cluster compute targets.\n",
    "\n",
    "# Note that this file is NOT used to automatically manage dependencies for the\n",
    "# local compute target. To provision these dependencies locally, run:\n",
    "# conda env update --file conda_dependencies.yml\n",
    "\n",
    "# Details about the Conda environment file format:\n",
    "# https://conda.io/docs/using/envs.html#create-environment-file-by-hand\n",
    "\n",
    "# For managing Spark packages and configuration, see spark_dependencies.yml.\n",
    "\n",
    "name: project_environment\n",
    "channels:\n",
    "- conda-forge\n",
    "- defaults\n",
    "dependencies:\n",
    "  - python=3.5.2\n",
    "  - pip:\n",
    "    - azure-common==1.1.8\n",
    "    - azure-storage==0.36.0\n",
    "    - numpy==1.14.0 \n",
    "    - sklearn\n",
    "    - keras\n",
    "    - tensorflow\n",
    "    - h5py"
   ]
  },
  {
   "cell_type": "markdown",
   "metadata": {},
   "source": [
    "The `Autoscore.py` file is python code defining the web service operation. It includes both the `init()` and `run()` functions defined earlier imports the required libraries. "
   ]
  },
  {
   "cell_type": "code",
   "execution_count": 46,
   "metadata": {},
   "outputs": [
    {
     "name": "stdout",
     "output_type": "stream",
     "text": [
      "Overwriting /azureml-share//Autoscore.py\n"
     ]
    }
   ],
   "source": [
    "%%writefile {os.environ['AZUREML_NATIVE_SHARE_DIRECTORY']}/Autoscore.py\n",
    "\n",
    "# import the libraries\n",
    "import keras\n",
    "import tensorflow\n",
    "import json\n",
    "import shutil\n",
    "import numpy as np\n",
    "\n",
    "\n",
    "def init():\n",
    "    # read in the model file\n",
    "    from keras.models import model_from_json\n",
    "    global loaded_model\n",
    "    \n",
    "    # load json and create model\n",
    "    with open(os.environ['AZUREML_NATIVE_SHARE_DIRECTORY'] +'autoencoder.json', 'r') as json_file:\n",
    "        loaded_model_json = json_file.read()\n",
    "        json_file.close()\n",
    "        loaded_model = model_from_json(loaded_model_json)\n",
    "        \n",
    "        \n",
    "# test with original input columns\n",
    "def run(test_run): \n",
    "    \n",
    "    # data prep\n",
    "    # pick the feature columns   \n",
    "    input_data = test_run.drop(['Time', 'Class'], axis=1)\n",
    "#    print(input_data.head(1))\n",
    "    \n",
    "    try:\n",
    "        prediction = loaded_model.predict(input_data)\n",
    "        #print(prediction)\n",
    "        pred = prediction.tolist()\n",
    "        return(pred)\n",
    "    except Exception as e:\n",
    "        return(str(e))"
   ]
  },
  {
   "cell_type": "markdown",
   "metadata": {},
   "source": [
    "Retrieving the saved files: https://docs.microsoft.com/en-us/azure/machine-learning/desktop-workbench/how-to-read-write-files"
   ]
  },
  {
   "cell_type": "code",
   "execution_count": 47,
   "metadata": {},
   "outputs": [
    {
     "name": "stdout",
     "output_type": "stream",
     "text": [
      "Autoscore.py\tautoencoder.json  service_schema.json\r\n",
      "autoencoder.h5\tcreditcard.csv\t  webservices_conda.yaml\r\n"
     ]
    }
   ],
   "source": [
    "!ls {aml_dir}"
   ]
  },
  {
   "cell_type": "markdown",
   "metadata": {},
   "source": [
    "## Packaging\n",
    "\n",
    "To move the model artifacts around, we'll zip them into one file. We can then retrieve this file from the persistence shared folder on your DSVM.\n",
    "\n",
    "https://docs.microsoft.com/en-us/azure/machine-learning/preview/how-to-read-write-files"
   ]
  },
  {
   "cell_type": "code",
   "execution_count": 48,
   "metadata": {},
   "outputs": [
    {
     "name": "stdout",
     "output_type": "stream",
     "text": [
      "Autoscore.py\tautoencoder.json     webservices_conda.yaml\r\n",
      "autoencoder.h5\tservice_schema.json\r\n"
     ]
    },
    {
     "data": {
      "text/plain": [
       "<azure.storage.blob.models.ResourceProperties at 0x7f93346529e8>"
      ]
     },
     "execution_count": 48,
     "output_type": "execute_result",
     "metadata": {}
    }
   ],
   "source": [
    "# Compress the operationalization assets for easy blob storage transfer\n",
    "# We can remove the persisted data files.\n",
    "# !rm {SHARE_ROOT}/PM*.pkl\n",
    "!rm {aml_dir}/creditcard.csv\n",
    "!ls {aml_dir}\n",
    "\n",
    "MODEL_O16N = shutil.make_archive('Auto_o16n', 'zip', aml_dir)\n",
    "\n",
    "# Create a new container if necessary, otherwise you can use an existing container.\n",
    "# This command creates the container if it does not already exist. Else it does nothing.\n",
    "az_blob_service.create_container(output_container,\n",
    "                                 fail_on_exist=False, \n",
    "                                 public_access=PublicAccess.Container)\n",
    "\n",
    "# Transfer the compressed operationalization assets into the blob container.\n",
    "az_blob_service.create_blob_from_path(output_container, \"Auto_o16n.zip\", str(MODEL_O16N))"
   ]
  },
  {
   "cell_type": "markdown",
   "metadata": {},
   "source": [
    "## Deployment \n",
    "\n",
    "Once the assets are stored, we can download them into a deployment compute context for operationalization on an Azure web service. For this scenario, we will deploy this on our local context.\n",
    "\n",
    "We demonstrate how to setup this web service this through a CLI window opened in the AML Workbench application.\n"
   ]
  },
  {
   "cell_type": "markdown",
   "metadata": {},
   "source": [
    "### Download the model \n",
    "\n",
    "To download the model we've saved, follow these instructions on a local computer.\n",
    "\n",
    "- Open the Azure Portal \n",
    "\n",
    "- In the left hand pane, click on All resources \n",
    "\n",
    "- Search for the storage account using the name you provided earlier in this notebook. \n",
    "\n",
    "- Choose the storage account from search result list, this will open the storage account panel.\n",
    "\n",
    "- On the storage account panel, choose Blobs \n",
    "\n",
    "- On the Blobs panel choose the container modeldeploy \n",
    "\n",
    "- Select the file o16n.zip and on the properties pane for that blob choose download.\n",
    "\n",
    "Once downloaded, unzip the file into the directory of your choice. \n"
   ]
  },
  {
   "cell_type": "markdown",
   "metadata": {},
   "source": [
    "### Create a model management endpoint \n",
    "\n",
    "Create a modelmanagement under your account. We will call this automodelmanagement. The remaining defaults are acceptable.\n",
    "\n",
    "`az ml account modelmanagement create --location <ACCOUNT_REGION> --resource-group <RESOURCE_GROUP> --name automodelmanagement`\n",
    "\n",
    "You can find the subscription name or subscription id through the (https://portal.azure.com) under the resource group you'd like to use.\n"
   ]
  },
  {
   "cell_type": "markdown",
   "metadata": {},
   "source": [
    "### Check environment settings \n",
    "\n",
    "Show what environment is currently active:\n",
    "\n",
    "`az ml env show`\n",
    "\n",
    "If nothing is set, we setup the environment with the existing model management context first:\n",
    "\n",
    "`az ml env setup --location <ACCOUNT_REGION> --resource-group <RESOURCE_GROUP> --name automodelmanagement`\n",
    "\n",
    "using the same <ACCOUNT_REGION> and <RESOURCE_GROUP> in the previous section. Then set the current environment:\n",
    "\n",
    "`az ml env set --resource-group <RESOURCE_GROUP> --cluster-name automodelmanagement`\n",
    "\n",
    "Check that the environment is now set:\n",
    "\n",
    "`az ml env show`\n"
   ]
  },
  {
   "cell_type": "markdown",
   "metadata": {},
   "source": [
    "### Install docker to compute target \n",
    "\n",
    "Once the model management environment is setup, we'll deploy the web service from the CLI to a local docker container for this demonstration. This assumes you have docker installed localy (https://www.docker.com/get-docker).\n",
    "\n",
    "Once docker is installed and running, you will need to prepare the local docker container, just as we didi the remote container.\n",
    "\n",
    "`az ml experiment prepare -c docker`\n",
    "\n",
    "Now deploy the solution to this container.\n"
   ]
  },
  {
   "cell_type": "markdown",
   "metadata": {},
   "source": [
    "### Deploy a web service \n",
    "\n",
    "These commands assume the current directory contains the webservice assets we created in throughout the notebooks in this scenario. Change to the directory where the zip file was unpacked.\n",
    "\n",
    "The command to create a web service (<SERVICE_ID>) with these operationalization assets in the current directory is:\n",
    "\n",
    "`az ml service create realtime -f <filename> -r <TARGET_RUNTIME> -m <MODEL_FILE> -s <SCHEMA_FILE> -n <SERVICE_ID> --cpu 0.1`\n",
    "\n",
    "The default cluster has only 2 nodes with 2 cores each. Some cores are taken for system components. AMLWorkbench asks for 1 core per service. To deploy multiple services into this cluster, we specify the cpu requirement in the service create command as (--cpu 0.1) to request 10% of a core.\n",
    "\n",
    "For this example, we will call our webservice amlworkbenchautowebservice. This SERVICE_ID must be all lowercase, with no spaces:\n",
    "\n",
    "`az ml service create realtime -f autoscore.py -r py -m-model-file autoencoder.json -m autoencoder.h5 -s service_schema.json --cpu 0.1 -n amlworkbenchautowebservice`\n",
    "\n",
    "This command will take some time to execute.\n"
   ]
  },
  {
   "cell_type": "markdown",
   "metadata": {},
   "source": [
    "### Test your deployment. \n",
    "\n",
    "Once complete, the az ml service create command returns sample usage commands to test the service for both PowerShell and the cmd prompt. We can view additional service usage information with the following command.\n",
    "\n",
    "`az ml service usage realtime -i amlworkbenchautowebservice`"
   ]
  },
  {
   "cell_type": "code",
   "execution_count": null,
   "metadata": {},
   "outputs": [],
   "source": [
    ""
   ]
  }
 ],
 "metadata": {
  "anaconda-cloud": {},
  "kernelspec": {
   "display_name": "strata_london jayastratalondon",
   "language": "python",
   "name": "strata_london_jayastratalondon"
  },
  "language_info": {
   "codemirror_mode": {
    "name": "ipython",
    "version": 3.0
   },
   "file_extension": ".py",
   "mimetype": "text/x-python",
   "name": "python",
   "nbconvert_exporter": "python",
   "pygments_lexer": "ipython3",
   "version": "3.5.2"
  }
 },
 "nbformat": 4,
 "nbformat_minor": 2
}